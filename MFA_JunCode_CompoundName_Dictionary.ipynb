{
  "nbformat": 4,
  "nbformat_minor": 0,
  "metadata": {
    "colab": {
      "name": "MFA_JunCode_CompoundName_Dictionary.ipynb",
      "provenance": [],
      "authorship_tag": "ABX9TyO0hv9CN/87tjjcDyn0SIPu",
      "include_colab_link": true
    },
    "kernelspec": {
      "name": "python3",
      "display_name": "Python 3"
    }
  },
  "cells": [
    {
      "cell_type": "markdown",
      "metadata": {
        "id": "view-in-github",
        "colab_type": "text"
      },
      "source": [
        "<a href=\"https://colab.research.google.com/github/minikittylovecooking/cook.github.io/blob/master/MFA_JunCode_CompoundName_Dictionary.ipynb\" target=\"_parent\"><img src=\"https://colab.research.google.com/assets/colab-badge.svg\" alt=\"Open In Colab\"/></a>"
      ]
    },
    {
      "cell_type": "code",
      "metadata": {
        "id": "WOJG5m78xSpk",
        "colab_type": "code",
        "outputId": "2617be14-fa50-4337-e4ee-9514ea1de581",
        "colab": {
          "base_uri": "https://localhost:8080/",
          "height": 34
        }
      },
      "source": [
        "#abbreviation code names for tracers, update as needed\n",
        "Tracer_abb= {\n",
        "    '1-2_13C_glc':'__1C',\n",
        "    'U_13C_glc':'__2C'\n",
        "\n",
        "}\n",
        "print(Tracer_abb['1-2_13C_glc'])"
      ],
      "execution_count": 2,
      "outputs": [
        {
          "output_type": "stream",
          "text": [
            "__1C\n"
          ],
          "name": "stdout"
        }
      ]
    },
    {
      "cell_type": "code",
      "metadata": {
        "id": "S123u-6d8aCQ",
        "colab_type": "code",
        "outputId": "6a066a49-fdab-40f2-a8a8-da2d2aec1f98",
        "colab": {
          "base_uri": "https://localhost:8080/",
          "height": 54
        }
      },
      "source": [
        "#abbreviation code names for metabolites, udpate according to MFA map names and El-Maven outputs\n",
        "#current is based on Yihui's core model's naming convention\n",
        "#Useful command to update multiple keys with same value : dict.update(dict.fromkeys)\n",
        "CoreC_abb= {\n",
        "    'glucose-6-phosphate':\"G6P\",\n",
        "    'glucose-1-phosphate':\"G6P\",\n",
        "    'phosphoenolpyruvate':\"PEP\",\n",
        "    'pep':\"PEP\",\n",
        "    'citrate':\"CitICit\",\n",
        "    'a-ketoglutarate':\"aKG\",\n",
        "    'succinate':\"Succ\",\n",
        "    'fumarate':\"Fum\",\n",
        "    'glutamate':\"Glu\",\n",
        "    'glutamine':\"Gln\",\n",
        "    'alanine':\"Ala\",\n",
        "    'lysine':\"Lys\",\n",
        "    'serine':\"Ser\",\n",
        "    'glycine':\"Gly\",\n",
        "    'methionine':\"Met\",\n",
        "    'aspartate':\"Asp\",\n",
        "    'aspartic Acid':\"Asp\",\n",
        "    'orotate':\"OROT\",\n",
        "    'ATP':\"ATP\"\n",
        "}\n",
        "print(CoreC_abb)"
      ],
      "execution_count": 4,
      "outputs": [
        {
          "output_type": "stream",
          "text": [
            "{'glucose-6-phosphate': 'G6P', 'glucose-1-phosphate': 'G6P', 'phosphoenolpyruvate': 'PEP', 'pep': 'PEP', 'citrate': 'CitICit', 'a-ketoglutarate': 'aKG', 'succinate': 'Succ', 'fumarate': 'Fum', 'glutamate': 'Glu', 'glutamine': 'Gln', 'alanine': 'Ala', 'lysine': 'Lys', 'serine': 'Ser', 'glycine': 'Gly', 'methionine': 'Met', 'aspartate': 'Asp', 'aspartic Acid': 'Asp', 'orotate': 'OROT', 'ATP': 'ATP'}\n"
          ],
          "name": "stdout"
        }
      ]
    },
    {
      "cell_type": "markdown",
      "metadata": {
        "id": "3H-oTgs0-y8P",
        "colab_type": "text"
      },
      "source": [
        "Remember to lower all metabolite name case with 'str.lower' command to process the data"
      ]
    },
    {
      "cell_type": "code",
      "metadata": {
        "id": "CcRtnyQsAt8N",
        "colab_type": "code",
        "outputId": "cdfe5546-cc45-4897-93a6-c5a15642010b",
        "colab": {
          "base_uri": "https://localhost:8080/",
          "height": 221
        }
      },
      "source": [
        "import pandas as pd\n",
        "#route:r'Path where the Excel file is stored\\File name.xlsx'\n",
        "#di: a dictionary that map abbreviations to metabolite names\n",
        "#In case you want to retain the existing variables for non-matches: df['col1'].map(di).fillna(df['col1'])\n",
        "#tracer is also a dictionary but you need to specify the key\n",
        "def abb(route,di,tracer):\n",
        "  df = pd.read_excel (route,sheet_name='Normalized')\n",
        "  df['Compound'] = df['Compound'].str.lower()\n",
        "  df['Compound'] = df['Compound'].str.replace(r\" \\(.*\\)\",\"\")\n",
        "  df['Compound'] = df['Compound'].map(di)\n",
        "  df= df[df['Compound'].notnull()]\n",
        "  df['Compound'] = df[\"Compound\"]+tracer\n",
        "  df['Compound'].where(~df['Compound'].duplicated(),'',inplace=True)\n",
        "  df=df.drop(columns=['Label'])\n",
        "  df=df.loc[:,~df.columns.str.contains('^pblk', case=False)]\n",
        "  df.to_excel(route[:-5]+\"MFAready.xlsx\",header=False,index=False)\n",
        "  return\n",
        "\n",
        "route='/content/20200116_Yl_13Cformate_withGlycerol_metabolomics.xlsx'\n",
        "abb(route,CoreC_abb,Tracer_abb['1-2_13C_glc'])"
      ],
      "execution_count": 49,
      "outputs": [
        {
          "output_type": "stream",
          "text": [
            "720     False\n",
            "721      True\n",
            "722      True\n",
            "723      True\n",
            "724      True\n",
            "        ...  \n",
            "1365     True\n",
            "1366     True\n",
            "1367     True\n",
            "1368     True\n",
            "1369     True\n",
            "Name: Compound, Length: 74, dtype: bool\n"
          ],
          "name": "stdout"
        }
      ]
    },
    {
      "cell_type": "code",
      "metadata": {
        "id": "rxd0Ozkprpog",
        "colab_type": "code",
        "outputId": "d9794200-2fcf-4f32-cfc6-2555e71e4af3",
        "colab": {
          "base_uri": "https://localhost:8080/",
          "height": 439
        }
      },
      "source": [
        "df"
      ],
      "execution_count": 0,
      "outputs": [
        {
          "output_type": "execute_result",
          "data": {
            "text/html": [
              "<div>\n",
              "<style scoped>\n",
              "    .dataframe tbody tr th:only-of-type {\n",
              "        vertical-align: middle;\n",
              "    }\n",
              "\n",
              "    .dataframe tbody tr th {\n",
              "        vertical-align: top;\n",
              "    }\n",
              "\n",
              "    .dataframe thead th {\n",
              "        text-align: right;\n",
              "    }\n",
              "</style>\n",
              "<table border=\"1\" class=\"dataframe\">\n",
              "  <thead>\n",
              "    <tr style=\"text-align: right;\">\n",
              "      <th></th>\n",
              "      <th>Compound</th>\n",
              "      <th>X20200116_Yl_12Cglycerol.13Cform_1.1_YNB_test_1</th>\n",
              "      <th>X20200116_Yl_12Cglycerol.13Cform_1.1_YNB_test_2</th>\n",
              "      <th>X20200116_Yl_12Cglycerol.13Cform_1.1_YNB_test_3</th>\n",
              "    </tr>\n",
              "  </thead>\n",
              "  <tbody>\n",
              "    <tr>\n",
              "      <th>720</th>\n",
              "      <td>G6P__1C</td>\n",
              "      <td>1.000000</td>\n",
              "      <td>1.000000</td>\n",
              "      <td>1.000000</td>\n",
              "    </tr>\n",
              "    <tr>\n",
              "      <th>721</th>\n",
              "      <td>G6P__1C</td>\n",
              "      <td>0.000000</td>\n",
              "      <td>0.000000</td>\n",
              "      <td>0.000000</td>\n",
              "    </tr>\n",
              "    <tr>\n",
              "      <th>722</th>\n",
              "      <td>G6P__1C</td>\n",
              "      <td>0.000000</td>\n",
              "      <td>0.000000</td>\n",
              "      <td>0.000000</td>\n",
              "    </tr>\n",
              "    <tr>\n",
              "      <th>723</th>\n",
              "      <td>G6P__1C</td>\n",
              "      <td>0.000000</td>\n",
              "      <td>0.000000</td>\n",
              "      <td>0.000000</td>\n",
              "    </tr>\n",
              "    <tr>\n",
              "      <th>724</th>\n",
              "      <td>G6P__1C</td>\n",
              "      <td>0.000000</td>\n",
              "      <td>0.000000</td>\n",
              "      <td>0.000000</td>\n",
              "    </tr>\n",
              "    <tr>\n",
              "      <th>...</th>\n",
              "      <td>...</td>\n",
              "      <td>...</td>\n",
              "      <td>...</td>\n",
              "      <td>...</td>\n",
              "    </tr>\n",
              "    <tr>\n",
              "      <th>1365</th>\n",
              "      <td>Met__1C</td>\n",
              "      <td>0.520795</td>\n",
              "      <td>0.506611</td>\n",
              "      <td>0.608477</td>\n",
              "    </tr>\n",
              "    <tr>\n",
              "      <th>1366</th>\n",
              "      <td>Met__1C</td>\n",
              "      <td>0.080563</td>\n",
              "      <td>0.089242</td>\n",
              "      <td>0.114900</td>\n",
              "    </tr>\n",
              "    <tr>\n",
              "      <th>1367</th>\n",
              "      <td>Met__1C</td>\n",
              "      <td>0.000000</td>\n",
              "      <td>0.000000</td>\n",
              "      <td>0.000000</td>\n",
              "    </tr>\n",
              "    <tr>\n",
              "      <th>1368</th>\n",
              "      <td>Met__1C</td>\n",
              "      <td>0.000000</td>\n",
              "      <td>0.000000</td>\n",
              "      <td>0.000000</td>\n",
              "    </tr>\n",
              "    <tr>\n",
              "      <th>1369</th>\n",
              "      <td>Met__1C</td>\n",
              "      <td>0.000000</td>\n",
              "      <td>0.000000</td>\n",
              "      <td>0.000000</td>\n",
              "    </tr>\n",
              "  </tbody>\n",
              "</table>\n",
              "<p>74 rows × 4 columns</p>\n",
              "</div>"
            ],
            "text/plain": [
              "     Compound  ...  X20200116_Yl_12Cglycerol.13Cform_1.1_YNB_test_3\n",
              "720   G6P__1C  ...                                         1.000000\n",
              "721   G6P__1C  ...                                         0.000000\n",
              "722   G6P__1C  ...                                         0.000000\n",
              "723   G6P__1C  ...                                         0.000000\n",
              "724   G6P__1C  ...                                         0.000000\n",
              "...       ...  ...                                              ...\n",
              "1365  Met__1C  ...                                         0.608477\n",
              "1366  Met__1C  ...                                         0.114900\n",
              "1367  Met__1C  ...                                         0.000000\n",
              "1368  Met__1C  ...                                         0.000000\n",
              "1369  Met__1C  ...                                         0.000000\n",
              "\n",
              "[74 rows x 4 columns]"
            ]
          },
          "metadata": {
            "tags": []
          },
          "execution_count": 81
        }
      ]
    }
  ]
}